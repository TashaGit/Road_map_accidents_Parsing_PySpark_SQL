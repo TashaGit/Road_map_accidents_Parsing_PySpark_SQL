{
 "cells": [
  {
   "cell_type": "code",
   "execution_count": 1,
   "metadata": {
    "ExecuteTime": {
     "end_time": "2023-09-29T22:02:59.351538Z",
     "start_time": "2023-09-29T22:02:59.174184Z"
    }
   },
   "outputs": [],
   "source": [
    "import pandas as pd\n",
    "import json\n",
    "import os\n",
    "import matplotlib.pyplot as plt\n",
    "import psycopg2"
   ]
  },
  {
   "cell_type": "code",
   "execution_count": 2,
   "metadata": {
    "ExecuteTime": {
     "end_time": "2023-09-29T21:36:37.134043Z",
     "start_time": "2023-09-29T21:36:37.102781Z"
    }
   },
   "outputs": [],
   "source": [
    "from pyspark.sql import SparkSession\n",
    "from pyspark.ml.feature import VectorAssembler\n",
    "from pyspark.sql import functions as F\n",
    "from pyspark.ml.clustering import KMeans"
   ]
  },
  {
   "cell_type": "code",
   "execution_count": 75,
   "metadata": {
    "ExecuteTime": {
     "end_time": "2023-09-29T20:31:10.282453Z",
     "start_time": "2023-09-29T20:31:10.208954Z"
    }
   },
   "outputs": [
    {
     "name": "stdout",
     "output_type": "stream",
     "text": [
      "['C:\\\\Users\\\\Tasha\\\\PycharmProjects\\\\FU_6-1\\\\data\\\\data\\\\altaiskii-krai.geojson', 'C:\\\\Users\\\\Tasha\\\\PycharmProjects\\\\FU_6-1\\\\data\\\\data\\\\amurskaia-oblast.geojson', 'C:\\\\Users\\\\Tasha\\\\PycharmProjects\\\\FU_6-1\\\\data\\\\data\\\\arkhangelskaia-oblast.geojson', 'C:\\\\Users\\\\Tasha\\\\PycharmProjects\\\\FU_6-1\\\\data\\\\data\\\\astrakhanskaia-oblast.geojson', 'C:\\\\Users\\\\Tasha\\\\PycharmProjects\\\\FU_6-1\\\\data\\\\data\\\\belgorodskaia-oblast.geojson', 'C:\\\\Users\\\\Tasha\\\\PycharmProjects\\\\FU_6-1\\\\data\\\\data\\\\brianskaia-oblast.geojson', 'C:\\\\Users\\\\Tasha\\\\PycharmProjects\\\\FU_6-1\\\\data\\\\data\\\\chechenskaia-respublika.geojson', 'C:\\\\Users\\\\Tasha\\\\PycharmProjects\\\\FU_6-1\\\\data\\\\data\\\\cheliabinskaia-oblast.geojson', 'C:\\\\Users\\\\Tasha\\\\PycharmProjects\\\\FU_6-1\\\\data\\\\data\\\\chukotskii-avtonomnyi-okrug.geojson', 'C:\\\\Users\\\\Tasha\\\\PycharmProjects\\\\FU_6-1\\\\data\\\\data\\\\chuvashskaia-respublika-chuvashiia.geojson', 'C:\\\\Users\\\\Tasha\\\\PycharmProjects\\\\FU_6-1\\\\data\\\\data\\\\evreiskaia-avtonomnaia-oblast.geojson', 'C:\\\\Users\\\\Tasha\\\\PycharmProjects\\\\FU_6-1\\\\data\\\\data\\\\iamalo-nenetskii-avtonomnyi-okrug.geojson', 'C:\\\\Users\\\\Tasha\\\\PycharmProjects\\\\FU_6-1\\\\data\\\\data\\\\iaroslavskaia-oblast.geojson', 'C:\\\\Users\\\\Tasha\\\\PycharmProjects\\\\FU_6-1\\\\data\\\\data\\\\irkutskaia-oblast.geojson', 'C:\\\\Users\\\\Tasha\\\\PycharmProjects\\\\FU_6-1\\\\data\\\\data\\\\ivanovskaia-oblast.geojson', 'C:\\\\Users\\\\Tasha\\\\PycharmProjects\\\\FU_6-1\\\\data\\\\data\\\\kabardino-balkarskaia-respublika.geojson', 'C:\\\\Users\\\\Tasha\\\\PycharmProjects\\\\FU_6-1\\\\data\\\\data\\\\kaliningradskaia-oblast.geojson', 'C:\\\\Users\\\\Tasha\\\\PycharmProjects\\\\FU_6-1\\\\data\\\\data\\\\kaluzhskaia-oblast.geojson', 'C:\\\\Users\\\\Tasha\\\\PycharmProjects\\\\FU_6-1\\\\data\\\\data\\\\kamchatskii-krai.geojson', 'C:\\\\Users\\\\Tasha\\\\PycharmProjects\\\\FU_6-1\\\\data\\\\data\\\\karachaevo-cherkesskaia-respublika.geojson', 'C:\\\\Users\\\\Tasha\\\\PycharmProjects\\\\FU_6-1\\\\data\\\\data\\\\kemerovskaia-oblast-kuzbass.geojson', 'C:\\\\Users\\\\Tasha\\\\PycharmProjects\\\\FU_6-1\\\\data\\\\data\\\\khabarovskii-krai.geojson', 'C:\\\\Users\\\\Tasha\\\\PycharmProjects\\\\FU_6-1\\\\data\\\\data\\\\khanty-mansiiskii-avtonomnyi-okrug-iugra.geojson', 'C:\\\\Users\\\\Tasha\\\\PycharmProjects\\\\FU_6-1\\\\data\\\\data\\\\kirovskaia-oblast.geojson', 'C:\\\\Users\\\\Tasha\\\\PycharmProjects\\\\FU_6-1\\\\data\\\\data\\\\kostromskaia-oblast.geojson', 'C:\\\\Users\\\\Tasha\\\\PycharmProjects\\\\FU_6-1\\\\data\\\\data\\\\krasnodarskii-krai.geojson', 'C:\\\\Users\\\\Tasha\\\\PycharmProjects\\\\FU_6-1\\\\data\\\\data\\\\krasnoiarskii-krai.geojson', 'C:\\\\Users\\\\Tasha\\\\PycharmProjects\\\\FU_6-1\\\\data\\\\data\\\\kurganskaia-oblast.geojson', 'C:\\\\Users\\\\Tasha\\\\PycharmProjects\\\\FU_6-1\\\\data\\\\data\\\\kurskaia-oblast.geojson', 'C:\\\\Users\\\\Tasha\\\\PycharmProjects\\\\FU_6-1\\\\data\\\\data\\\\leningradskaia-oblast.geojson', 'C:\\\\Users\\\\Tasha\\\\PycharmProjects\\\\FU_6-1\\\\data\\\\data\\\\lipetskaia-oblast.geojson', 'C:\\\\Users\\\\Tasha\\\\PycharmProjects\\\\FU_6-1\\\\data\\\\data\\\\magadanskaia-oblast.geojson', 'C:\\\\Users\\\\Tasha\\\\PycharmProjects\\\\FU_6-1\\\\data\\\\data\\\\moskovskaia-oblast.geojson', 'C:\\\\Users\\\\Tasha\\\\PycharmProjects\\\\FU_6-1\\\\data\\\\data\\\\moskva.geojson', 'C:\\\\Users\\\\Tasha\\\\PycharmProjects\\\\FU_6-1\\\\data\\\\data\\\\murmanskaia-oblast.geojson', 'C:\\\\Users\\\\Tasha\\\\PycharmProjects\\\\FU_6-1\\\\data\\\\data\\\\nenetskii-avtonomnyi-okrug.geojson', 'C:\\\\Users\\\\Tasha\\\\PycharmProjects\\\\FU_6-1\\\\data\\\\data\\\\nizhegorodskaia-oblast.geojson', 'C:\\\\Users\\\\Tasha\\\\PycharmProjects\\\\FU_6-1\\\\data\\\\data\\\\novgorodskaia-oblast.geojson', 'C:\\\\Users\\\\Tasha\\\\PycharmProjects\\\\FU_6-1\\\\data\\\\data\\\\novosibirskaia-oblast.geojson', 'C:\\\\Users\\\\Tasha\\\\PycharmProjects\\\\FU_6-1\\\\data\\\\data\\\\omskaia-oblast.geojson', 'C:\\\\Users\\\\Tasha\\\\PycharmProjects\\\\FU_6-1\\\\data\\\\data\\\\orenburgskaia-oblast.geojson', 'C:\\\\Users\\\\Tasha\\\\PycharmProjects\\\\FU_6-1\\\\data\\\\data\\\\orlovskaia-oblast.geojson', 'C:\\\\Users\\\\Tasha\\\\PycharmProjects\\\\FU_6-1\\\\data\\\\data\\\\penzenskaia-oblast.geojson', 'C:\\\\Users\\\\Tasha\\\\PycharmProjects\\\\FU_6-1\\\\data\\\\data\\\\permskii-krai.geojson', 'C:\\\\Users\\\\Tasha\\\\PycharmProjects\\\\FU_6-1\\\\data\\\\data\\\\primorskii-krai.geojson', 'C:\\\\Users\\\\Tasha\\\\PycharmProjects\\\\FU_6-1\\\\data\\\\data\\\\pskovskaia-oblast.geojson', 'C:\\\\Users\\\\Tasha\\\\PycharmProjects\\\\FU_6-1\\\\data\\\\data\\\\respublika-adygeia-adygeia.geojson', 'C:\\\\Users\\\\Tasha\\\\PycharmProjects\\\\FU_6-1\\\\data\\\\data\\\\respublika-altai.geojson', 'C:\\\\Users\\\\Tasha\\\\PycharmProjects\\\\FU_6-1\\\\data\\\\data\\\\respublika-bashkortostan.geojson', 'C:\\\\Users\\\\Tasha\\\\PycharmProjects\\\\FU_6-1\\\\data\\\\data\\\\respublika-buriatiia.geojson', 'C:\\\\Users\\\\Tasha\\\\PycharmProjects\\\\FU_6-1\\\\data\\\\data\\\\respublika-dagestan.geojson', 'C:\\\\Users\\\\Tasha\\\\PycharmProjects\\\\FU_6-1\\\\data\\\\data\\\\respublika-ingushetiia.geojson', 'C:\\\\Users\\\\Tasha\\\\PycharmProjects\\\\FU_6-1\\\\data\\\\data\\\\respublika-kalmykiia.geojson', 'C:\\\\Users\\\\Tasha\\\\PycharmProjects\\\\FU_6-1\\\\data\\\\data\\\\respublika-kareliia.geojson', 'C:\\\\Users\\\\Tasha\\\\PycharmProjects\\\\FU_6-1\\\\data\\\\data\\\\respublika-khakasiia.geojson', 'C:\\\\Users\\\\Tasha\\\\PycharmProjects\\\\FU_6-1\\\\data\\\\data\\\\respublika-komi.geojson', 'C:\\\\Users\\\\Tasha\\\\PycharmProjects\\\\FU_6-1\\\\data\\\\data\\\\respublika-krym.geojson', 'C:\\\\Users\\\\Tasha\\\\PycharmProjects\\\\FU_6-1\\\\data\\\\data\\\\respublika-marii-el.geojson', 'C:\\\\Users\\\\Tasha\\\\PycharmProjects\\\\FU_6-1\\\\data\\\\data\\\\respublika-mordoviia.geojson', 'C:\\\\Users\\\\Tasha\\\\PycharmProjects\\\\FU_6-1\\\\data\\\\data\\\\respublika-sakha-iakutiia.geojson', 'C:\\\\Users\\\\Tasha\\\\PycharmProjects\\\\FU_6-1\\\\data\\\\data\\\\respublika-severnaia-osetiia-alaniia.geojson', 'C:\\\\Users\\\\Tasha\\\\PycharmProjects\\\\FU_6-1\\\\data\\\\data\\\\respublika-tatarstan-tatarstan.geojson', 'C:\\\\Users\\\\Tasha\\\\PycharmProjects\\\\FU_6-1\\\\data\\\\data\\\\respublika-tyva.geojson', 'C:\\\\Users\\\\Tasha\\\\PycharmProjects\\\\FU_6-1\\\\data\\\\data\\\\riazanskaia-oblast.geojson', 'C:\\\\Users\\\\Tasha\\\\PycharmProjects\\\\FU_6-1\\\\data\\\\data\\\\rostovskaia-oblast.geojson', 'C:\\\\Users\\\\Tasha\\\\PycharmProjects\\\\FU_6-1\\\\data\\\\data\\\\sakhalinskaia-oblast.geojson', 'C:\\\\Users\\\\Tasha\\\\PycharmProjects\\\\FU_6-1\\\\data\\\\data\\\\samarskaia-oblast.geojson', 'C:\\\\Users\\\\Tasha\\\\PycharmProjects\\\\FU_6-1\\\\data\\\\data\\\\sankt-peterburg.geojson', 'C:\\\\Users\\\\Tasha\\\\PycharmProjects\\\\FU_6-1\\\\data\\\\data\\\\saratovskaia-oblast.geojson', 'C:\\\\Users\\\\Tasha\\\\PycharmProjects\\\\FU_6-1\\\\data\\\\data\\\\sevastopol.geojson', 'C:\\\\Users\\\\Tasha\\\\PycharmProjects\\\\FU_6-1\\\\data\\\\data\\\\smolenskaia-oblast.geojson', 'C:\\\\Users\\\\Tasha\\\\PycharmProjects\\\\FU_6-1\\\\data\\\\data\\\\stavropolskii-krai.geojson', 'C:\\\\Users\\\\Tasha\\\\PycharmProjects\\\\FU_6-1\\\\data\\\\data\\\\sverdlovskaia-oblast.geojson', 'C:\\\\Users\\\\Tasha\\\\PycharmProjects\\\\FU_6-1\\\\data\\\\data\\\\tambovskaia-oblast.geojson', 'C:\\\\Users\\\\Tasha\\\\PycharmProjects\\\\FU_6-1\\\\data\\\\data\\\\test.geojson', 'C:\\\\Users\\\\Tasha\\\\PycharmProjects\\\\FU_6-1\\\\data\\\\data\\\\tiumenskaia-oblast.geojson', 'C:\\\\Users\\\\Tasha\\\\PycharmProjects\\\\FU_6-1\\\\data\\\\data\\\\tomskaia-oblast.geojson', 'C:\\\\Users\\\\Tasha\\\\PycharmProjects\\\\FU_6-1\\\\data\\\\data\\\\tulskaia-oblast.geojson', 'C:\\\\Users\\\\Tasha\\\\PycharmProjects\\\\FU_6-1\\\\data\\\\data\\\\tverskaia-oblast.geojson', 'C:\\\\Users\\\\Tasha\\\\PycharmProjects\\\\FU_6-1\\\\data\\\\data\\\\udmurtskaia-respublika.geojson', 'C:\\\\Users\\\\Tasha\\\\PycharmProjects\\\\FU_6-1\\\\data\\\\data\\\\ulianovskaia-oblast.geojson', 'C:\\\\Users\\\\Tasha\\\\PycharmProjects\\\\FU_6-1\\\\data\\\\data\\\\vladimirskaia-oblast.geojson', 'C:\\\\Users\\\\Tasha\\\\PycharmProjects\\\\FU_6-1\\\\data\\\\data\\\\volgogradskaia-oblast.geojson', 'C:\\\\Users\\\\Tasha\\\\PycharmProjects\\\\FU_6-1\\\\data\\\\data\\\\vologodskaia-oblast.geojson', 'C:\\\\Users\\\\Tasha\\\\PycharmProjects\\\\FU_6-1\\\\data\\\\data\\\\voronezhskaia-oblast.geojson', 'C:\\\\Users\\\\Tasha\\\\PycharmProjects\\\\FU_6-1\\\\data\\\\data\\\\zabaikalskii-krai.geojson']\n"
     ]
    }
   ],
   "source": [
    "#получаем список файлов для папки\n",
    "folder_path = r'C:\\Users\\Tasha\\PycharmProjects\\FU_6-1\\data\\data'\n",
    "file_names = []\n",
    "\n",
    "for file_name in os.listdir(folder_path):\n",
    "    if file_name.endswith('.geojson'):\n",
    "        file_names.append(os.path.join(folder_path, file_name))\n",
    "\n",
    "print(file_names)"
   ]
  },
  {
   "cell_type": "code",
   "execution_count": 89,
   "metadata": {
    "ExecuteTime": {
     "end_time": "2023-09-29T20:49:48.608990Z",
     "start_time": "2023-09-29T20:42:43.981098Z"
    }
   },
   "outputs": [],
   "source": [
    "# Список для хранения данных из файлов\n",
    "data = []\n",
    "\n",
    "# Чтение данных из каждого файла и добавление их в список\n",
    "for file_name in file_names:\n",
    "    with open(file_name, 'r', encoding='utf-8') as file:\n",
    "        file_data = json.load(file)\n",
    "        for feature in file_data['features']:\n",
    "            properties = feature['properties']\n",
    "            datetime = properties['datetime']\n",
    "            lat = feature['geometry']['coordinates'][1]\n",
    "            long = feature['geometry']['coordinates'][0]\n",
    "            dead_count = properties['dead_count']\n",
    "            injured_count = properties['injured_count']\n",
    "            light = properties['light']\n",
    "            weather = properties.get('weather')\n",
    "            road_conditions = properties.get('road_conditions')\n",
    "            location = properties.get('parent_region')\n",
    "\n",
    "            data.append([datetime, lat, long, dead_count, injured_count, light, weather, road_conditions, location])\n",
    "\n",
    "# Создание датафрейма\n",
    "df = pd.DataFrame(data, columns=['datetime', 'lat', 'long', 'dead_count', 'injured_count', 'light', 'weather', 'road_conditions', 'location'])"
   ]
  },
  {
   "cell_type": "code",
   "execution_count": 90,
   "metadata": {
    "ExecuteTime": {
     "end_time": "2023-09-29T20:49:48.702728Z",
     "start_time": "2023-09-29T20:49:48.593363Z"
    }
   },
   "outputs": [
    {
     "data": {
      "text/html": [
       "<div>\n",
       "<style scoped>\n",
       "    .dataframe tbody tr th:only-of-type {\n",
       "        vertical-align: middle;\n",
       "    }\n",
       "\n",
       "    .dataframe tbody tr th {\n",
       "        vertical-align: top;\n",
       "    }\n",
       "\n",
       "    .dataframe thead th {\n",
       "        text-align: right;\n",
       "    }\n",
       "</style>\n",
       "<table border=\"1\" class=\"dataframe\">\n",
       "  <thead>\n",
       "    <tr style=\"text-align: right;\">\n",
       "      <th></th>\n",
       "      <th>datetime</th>\n",
       "      <th>lat</th>\n",
       "      <th>long</th>\n",
       "      <th>dead_count</th>\n",
       "      <th>injured_count</th>\n",
       "      <th>light</th>\n",
       "      <th>weather</th>\n",
       "      <th>road_conditions</th>\n",
       "      <th>location</th>\n",
       "    </tr>\n",
       "  </thead>\n",
       "  <tbody>\n",
       "    <tr>\n",
       "      <th>0</th>\n",
       "      <td>2023-05-31 15:40:00</td>\n",
       "      <td>53.333300</td>\n",
       "      <td>83.656500</td>\n",
       "      <td>0</td>\n",
       "      <td>1</td>\n",
       "      <td>Светлое время суток</td>\n",
       "      <td>[Ясно]</td>\n",
       "      <td>[Сухое]</td>\n",
       "      <td>Алтайский край</td>\n",
       "    </tr>\n",
       "    <tr>\n",
       "      <th>1</th>\n",
       "      <td>2023-05-24 19:30:00</td>\n",
       "      <td>53.391200</td>\n",
       "      <td>83.787900</td>\n",
       "      <td>0</td>\n",
       "      <td>1</td>\n",
       "      <td>Светлое время суток</td>\n",
       "      <td>[Ясно]</td>\n",
       "      <td>[Сухое]</td>\n",
       "      <td>Алтайский край</td>\n",
       "    </tr>\n",
       "    <tr>\n",
       "      <th>2</th>\n",
       "      <td>2015-09-16 13:00:00</td>\n",
       "      <td>53.345833</td>\n",
       "      <td>83.666389</td>\n",
       "      <td>0</td>\n",
       "      <td>1</td>\n",
       "      <td>Светлое время суток</td>\n",
       "      <td>[Пасмурно]</td>\n",
       "      <td>[Сухое]</td>\n",
       "      <td>Алтайский край</td>\n",
       "    </tr>\n",
       "    <tr>\n",
       "      <th>3</th>\n",
       "      <td>2017-08-25 15:30:00</td>\n",
       "      <td>53.197060</td>\n",
       "      <td>83.396880</td>\n",
       "      <td>0</td>\n",
       "      <td>1</td>\n",
       "      <td>Светлое время суток</td>\n",
       "      <td>[Ясно]</td>\n",
       "      <td>[Сухое]</td>\n",
       "      <td>Алтайский край</td>\n",
       "    </tr>\n",
       "    <tr>\n",
       "      <th>4</th>\n",
       "      <td>2021-05-29 19:40:00</td>\n",
       "      <td>53.376400</td>\n",
       "      <td>83.714200</td>\n",
       "      <td>0</td>\n",
       "      <td>1</td>\n",
       "      <td>Светлое время суток</td>\n",
       "      <td>[Ясно]</td>\n",
       "      <td>[Сухое, Отсутствие, плохая различимость горизо...</td>\n",
       "      <td>Алтайский край</td>\n",
       "    </tr>\n",
       "    <tr>\n",
       "      <th>5</th>\n",
       "      <td>2021-05-25 16:40:00</td>\n",
       "      <td>53.343071</td>\n",
       "      <td>83.794366</td>\n",
       "      <td>0</td>\n",
       "      <td>1</td>\n",
       "      <td>Светлое время суток</td>\n",
       "      <td>[Ясно]</td>\n",
       "      <td>[Сухое, Отсутствие, плохая различимость горизо...</td>\n",
       "      <td>Алтайский край</td>\n",
       "    </tr>\n",
       "    <tr>\n",
       "      <th>6</th>\n",
       "      <td>2021-02-22 13:50:00</td>\n",
       "      <td>53.290476</td>\n",
       "      <td>83.708739</td>\n",
       "      <td>0</td>\n",
       "      <td>3</td>\n",
       "      <td>Светлое время суток</td>\n",
       "      <td>[Ясно]</td>\n",
       "      <td>[Обработанное противогололедными материалами]</td>\n",
       "      <td>Алтайский край</td>\n",
       "    </tr>\n",
       "    <tr>\n",
       "      <th>7</th>\n",
       "      <td>2022-01-23 19:20:00</td>\n",
       "      <td>53.379297</td>\n",
       "      <td>83.718234</td>\n",
       "      <td>0</td>\n",
       "      <td>1</td>\n",
       "      <td>В темное время суток, освещение включено</td>\n",
       "      <td>[Ясно]</td>\n",
       "      <td>[Сухое, Недостатки зимнего содержания, Неправи...</td>\n",
       "      <td>Алтайский край</td>\n",
       "    </tr>\n",
       "    <tr>\n",
       "      <th>8</th>\n",
       "      <td>2021-04-11 13:30:00</td>\n",
       "      <td>53.357051</td>\n",
       "      <td>83.658732</td>\n",
       "      <td>0</td>\n",
       "      <td>1</td>\n",
       "      <td>Светлое время суток</td>\n",
       "      <td>[Ясно]</td>\n",
       "      <td>[Мокрое, Отсутствие, плохая различимость гориз...</td>\n",
       "      <td>Алтайский край</td>\n",
       "    </tr>\n",
       "    <tr>\n",
       "      <th>9</th>\n",
       "      <td>2021-04-20 18:55:00</td>\n",
       "      <td>53.343391</td>\n",
       "      <td>83.704684</td>\n",
       "      <td>0</td>\n",
       "      <td>1</td>\n",
       "      <td>Светлое время суток</td>\n",
       "      <td>[Ясно]</td>\n",
       "      <td>[Сухое, Отсутствие, плохая различимость горизо...</td>\n",
       "      <td>Алтайский край</td>\n",
       "    </tr>\n",
       "  </tbody>\n",
       "</table>\n",
       "</div>"
      ],
      "text/plain": [
       "              datetime        lat       long  dead_count  injured_count  \\\n",
       "0  2023-05-31 15:40:00  53.333300  83.656500           0              1   \n",
       "1  2023-05-24 19:30:00  53.391200  83.787900           0              1   \n",
       "2  2015-09-16 13:00:00  53.345833  83.666389           0              1   \n",
       "3  2017-08-25 15:30:00  53.197060  83.396880           0              1   \n",
       "4  2021-05-29 19:40:00  53.376400  83.714200           0              1   \n",
       "5  2021-05-25 16:40:00  53.343071  83.794366           0              1   \n",
       "6  2021-02-22 13:50:00  53.290476  83.708739           0              3   \n",
       "7  2022-01-23 19:20:00  53.379297  83.718234           0              1   \n",
       "8  2021-04-11 13:30:00  53.357051  83.658732           0              1   \n",
       "9  2021-04-20 18:55:00  53.343391  83.704684           0              1   \n",
       "\n",
       "                                      light     weather  \\\n",
       "0                       Светлое время суток      [Ясно]   \n",
       "1                       Светлое время суток      [Ясно]   \n",
       "2                       Светлое время суток  [Пасмурно]   \n",
       "3                       Светлое время суток      [Ясно]   \n",
       "4                       Светлое время суток      [Ясно]   \n",
       "5                       Светлое время суток      [Ясно]   \n",
       "6                       Светлое время суток      [Ясно]   \n",
       "7  В темное время суток, освещение включено      [Ясно]   \n",
       "8                       Светлое время суток      [Ясно]   \n",
       "9                       Светлое время суток      [Ясно]   \n",
       "\n",
       "                                     road_conditions        location  \n",
       "0                                            [Сухое]  Алтайский край  \n",
       "1                                            [Сухое]  Алтайский край  \n",
       "2                                            [Сухое]  Алтайский край  \n",
       "3                                            [Сухое]  Алтайский край  \n",
       "4  [Сухое, Отсутствие, плохая различимость горизо...  Алтайский край  \n",
       "5  [Сухое, Отсутствие, плохая различимость горизо...  Алтайский край  \n",
       "6      [Обработанное противогололедными материалами]  Алтайский край  \n",
       "7  [Сухое, Недостатки зимнего содержания, Неправи...  Алтайский край  \n",
       "8  [Мокрое, Отсутствие, плохая различимость гориз...  Алтайский край  \n",
       "9  [Сухое, Отсутствие, плохая различимость горизо...  Алтайский край  "
      ]
     },
     "execution_count": 90,
     "metadata": {},
     "output_type": "execute_result"
    }
   ],
   "source": [
    "df.head(10)"
   ]
  },
  {
   "cell_type": "code",
   "execution_count": 91,
   "metadata": {
    "ExecuteTime": {
     "end_time": "2023-09-29T20:50:08.310980Z",
     "start_time": "2023-09-29T20:50:08.179866Z"
    }
   },
   "outputs": [
    {
     "data": {
      "text/plain": [
       "(1355650, 9)"
      ]
     },
     "execution_count": 91,
     "metadata": {},
     "output_type": "execute_result"
    }
   ],
   "source": [
    "df.shape"
   ]
  },
  {
   "cell_type": "code",
   "execution_count": 92,
   "metadata": {
    "ExecuteTime": {
     "end_time": "2023-09-29T20:50:19.228687Z",
     "start_time": "2023-09-29T20:50:16.035046Z"
    }
   },
   "outputs": [
    {
     "name": "stdout",
     "output_type": "stream",
     "text": [
      "<class 'pandas.core.frame.DataFrame'>\n",
      "RangeIndex: 1355650 entries, 0 to 1355649\n",
      "Data columns (total 9 columns):\n",
      " #   Column           Non-Null Count    Dtype  \n",
      "---  ------           --------------    -----  \n",
      " 0   datetime         1355650 non-null  object \n",
      " 1   lat              1344906 non-null  float64\n",
      " 2   long             1344906 non-null  float64\n",
      " 3   dead_count       1355650 non-null  int64  \n",
      " 4   injured_count    1355650 non-null  int64  \n",
      " 5   light            1355650 non-null  object \n",
      " 6   weather          1355650 non-null  object \n",
      " 7   road_conditions  1355650 non-null  object \n",
      " 8   location         1355650 non-null  object \n",
      "dtypes: float64(2), int64(2), object(5)\n",
      "memory usage: 93.1+ MB\n"
     ]
    }
   ],
   "source": [
    "df.info()"
   ]
  },
  {
   "cell_type": "code",
   "execution_count": 93,
   "metadata": {
    "ExecuteTime": {
     "end_time": "2023-09-29T20:50:38.102487Z",
     "start_time": "2023-09-29T20:50:37.822773Z"
    }
   },
   "outputs": [
    {
     "data": {
      "text/html": [
       "\n",
       "            <div>\n",
       "                <p><b>SparkSession - in-memory</b></p>\n",
       "                \n",
       "        <div>\n",
       "            <p><b>SparkContext</b></p>\n",
       "\n",
       "            <p><a href=\"http://host.docker.internal:4040\">Spark UI</a></p>\n",
       "\n",
       "            <dl>\n",
       "              <dt>Version</dt>\n",
       "                <dd><code>v3.5.0</code></dd>\n",
       "              <dt>Master</dt>\n",
       "                <dd><code>local[4]</code></dd>\n",
       "              <dt>AppName</dt>\n",
       "                <dd><code>Spark_FU6_1</code></dd>\n",
       "            </dl>\n",
       "        </div>\n",
       "        \n",
       "            </div>\n",
       "        "
      ],
      "text/plain": [
       "<pyspark.sql.session.SparkSession at 0x25605367ad0>"
      ]
     },
     "execution_count": 93,
     "metadata": {},
     "output_type": "execute_result"
    }
   ],
   "source": [
    "#настроим локально сервер pyspark\n",
    "\n",
    "master = 'local[4]'\n",
    "\n",
    "spark = SparkSession.builder  \\\n",
    "    .master(master)  \\\n",
    "    .appName('Spark_FU6_1')  \\\n",
    "    .getOrCreate()\n",
    "\n",
    "spark\n"
   ]
  },
  {
   "cell_type": "code",
   "execution_count": 94,
   "metadata": {
    "ExecuteTime": {
     "end_time": "2023-09-29T20:51:07.940785Z",
     "start_time": "2023-09-29T20:50:46.218525Z"
    }
   },
   "outputs": [],
   "source": [
    "#обработаем колонку с данными по дорогам\n",
    "for i, conditions in enumerate(df['road_conditions']):\n",
    "    # проверить на нан\n",
    "    if conditions is not None:\n",
    "        # удалить скобки в конце и в начале строки\n",
    "        conditions = conditions[0].replace('[', '').replace(']', '')\n",
    "        # разделить строку и получить первое слово\n",
    "        first_word = conditions.split(',')[0].strip()\n",
    "        # обновить значение в столбце\n",
    "        df.at[i, 'road_conditions'] = first_word"
   ]
  },
  {
   "cell_type": "code",
   "execution_count": 95,
   "metadata": {
    "ExecuteTime": {
     "end_time": "2023-09-29T20:51:20.487617Z",
     "start_time": "2023-09-29T20:51:20.401547Z"
    }
   },
   "outputs": [
    {
     "data": {
      "text/plain": [
       "0                                          Сухое\n",
       "1                                          Сухое\n",
       "2                                          Сухое\n",
       "3                                          Сухое\n",
       "4                                          Сухое\n",
       "5                                          Сухое\n",
       "6    Обработанное противогололедными материалами\n",
       "7                                          Сухое\n",
       "8                                         Мокрое\n",
       "9                                          Сухое\n",
       "Name: road_conditions, dtype: object"
      ]
     },
     "execution_count": 95,
     "metadata": {},
     "output_type": "execute_result"
    }
   ],
   "source": [
    "#проверим результат\n",
    "df['road_conditions'][:10]"
   ]
  },
  {
   "cell_type": "code",
   "execution_count": 96,
   "metadata": {
    "ExecuteTime": {
     "end_time": "2023-09-29T20:51:32.060211Z",
     "start_time": "2023-09-29T20:51:25.616731Z"
    }
   },
   "outputs": [],
   "source": [
    "#обработать колонку с погодой\n",
    "df['weather'] = df['weather'].astype(str).str.replace('[', '').str.replace(']', '').str.strip(\"'\")"
   ]
  },
  {
   "cell_type": "code",
   "execution_count": 97,
   "metadata": {
    "ExecuteTime": {
     "end_time": "2023-09-29T20:51:43.112613Z",
     "start_time": "2023-09-29T20:51:38.661829Z"
    }
   },
   "outputs": [
    {
     "name": "stdout",
     "output_type": "stream",
     "text": [
      "Filtered _df.shape: (256196, 9)\n"
     ]
    },
    {
     "data": {
      "text/html": [
       "<div>\n",
       "<style scoped>\n",
       "    .dataframe tbody tr th:only-of-type {\n",
       "        vertical-align: middle;\n",
       "    }\n",
       "\n",
       "    .dataframe tbody tr th {\n",
       "        vertical-align: top;\n",
       "    }\n",
       "\n",
       "    .dataframe thead th {\n",
       "        text-align: right;\n",
       "    }\n",
       "</style>\n",
       "<table border=\"1\" class=\"dataframe\">\n",
       "  <thead>\n",
       "    <tr style=\"text-align: right;\">\n",
       "      <th></th>\n",
       "      <th>datetime</th>\n",
       "      <th>lat</th>\n",
       "      <th>long</th>\n",
       "      <th>dead_count</th>\n",
       "      <th>injured_count</th>\n",
       "      <th>light</th>\n",
       "      <th>weather</th>\n",
       "      <th>road_conditions</th>\n",
       "      <th>location</th>\n",
       "    </tr>\n",
       "  </thead>\n",
       "  <tbody>\n",
       "    <tr>\n",
       "      <th>8</th>\n",
       "      <td>2021-04-11 13:30:00</td>\n",
       "      <td>53.357051</td>\n",
       "      <td>83.658732</td>\n",
       "      <td>0</td>\n",
       "      <td>1</td>\n",
       "      <td>Светлое время суток</td>\n",
       "      <td>Ясно</td>\n",
       "      <td>Мокрое</td>\n",
       "      <td>Алтайский край</td>\n",
       "    </tr>\n",
       "    <tr>\n",
       "      <th>12</th>\n",
       "      <td>2021-04-09 21:40:00</td>\n",
       "      <td>53.379303</td>\n",
       "      <td>83.724564</td>\n",
       "      <td>0</td>\n",
       "      <td>1</td>\n",
       "      <td>В темное время суток, освещение включено</td>\n",
       "      <td>Ясно</td>\n",
       "      <td>Мокрое</td>\n",
       "      <td>Алтайский край</td>\n",
       "    </tr>\n",
       "    <tr>\n",
       "      <th>13</th>\n",
       "      <td>2021-04-05 17:20:00</td>\n",
       "      <td>53.380602</td>\n",
       "      <td>83.688548</td>\n",
       "      <td>0</td>\n",
       "      <td>1</td>\n",
       "      <td>Светлое время суток</td>\n",
       "      <td>Ясно</td>\n",
       "      <td>Мокрое</td>\n",
       "      <td>Алтайский край</td>\n",
       "    </tr>\n",
       "    <tr>\n",
       "      <th>23</th>\n",
       "      <td>2021-03-26 12:35:00</td>\n",
       "      <td>53.343948</td>\n",
       "      <td>83.781084</td>\n",
       "      <td>0</td>\n",
       "      <td>1</td>\n",
       "      <td>Светлое время суток</td>\n",
       "      <td>Пасмурно</td>\n",
       "      <td>Мокрое</td>\n",
       "      <td>Алтайский край</td>\n",
       "    </tr>\n",
       "    <tr>\n",
       "      <th>24</th>\n",
       "      <td>2021-03-19 12:20:00</td>\n",
       "      <td>53.339624</td>\n",
       "      <td>83.669879</td>\n",
       "      <td>0</td>\n",
       "      <td>1</td>\n",
       "      <td>Светлое время суток</td>\n",
       "      <td>Ясно</td>\n",
       "      <td>Мокрое</td>\n",
       "      <td>Алтайский край</td>\n",
       "    </tr>\n",
       "  </tbody>\n",
       "</table>\n",
       "</div>"
      ],
      "text/plain": [
       "               datetime        lat       long  dead_count  injured_count  \\\n",
       "8   2021-04-11 13:30:00  53.357051  83.658732           0              1   \n",
       "12  2021-04-09 21:40:00  53.379303  83.724564           0              1   \n",
       "13  2021-04-05 17:20:00  53.380602  83.688548           0              1   \n",
       "23  2021-03-26 12:35:00  53.343948  83.781084           0              1   \n",
       "24  2021-03-19 12:20:00  53.339624  83.669879           0              1   \n",
       "\n",
       "                                       light   weather road_conditions  \\\n",
       "8                        Светлое время суток      Ясно          Мокрое   \n",
       "12  В темное время суток, освещение включено      Ясно          Мокрое   \n",
       "13                       Светлое время суток      Ясно          Мокрое   \n",
       "23                       Светлое время суток  Пасмурно          Мокрое   \n",
       "24                       Светлое время суток      Ясно          Мокрое   \n",
       "\n",
       "          location  \n",
       "8   Алтайский край  \n",
       "12  Алтайский край  \n",
       "13  Алтайский край  \n",
       "23  Алтайский край  \n",
       "24  Алтайский край  "
      ]
     },
     "execution_count": 97,
     "metadata": {},
     "output_type": "execute_result"
    }
   ],
   "source": [
    "#отберем датасет только с условиями  Road Conditions == Мокрое как наиболее вероятная причина ДТП\n",
    "filtered_df = df[df['road_conditions'] == \"Мокрое\"]\n",
    "print('Filtered _df.shape:', filtered_df.shape)\n",
    "\n",
    "filtered_df.head()"
   ]
  },
  {
   "cell_type": "code",
   "execution_count": 99,
   "metadata": {
    "ExecuteTime": {
     "end_time": "2023-09-29T20:52:19.179127Z",
     "start_time": "2023-09-29T20:52:18.470923Z"
    }
   },
   "outputs": [
    {
     "data": {
      "image/png": "[encoded data removed]",
      "text/plain": [
       "<Figure size 640x480 with 1 Axes>"
      ]
     },
     "metadata": {},
     "output_type": "display_data"
    }
   ],
   "source": [
    "#посмотрим основные локации\n",
    "location_count = df['location'].value_counts()[:10]\n",
    "\n",
    "plt.pie(location_count, labels=location_count.index, autopct='%1.1f%%')\n",
    "plt.show()"
   ]
  },
  {
   "cell_type": "code",
   "execution_count": 100,
   "metadata": {
    "ExecuteTime": {
     "end_time": "2023-09-29T20:56:20.926703Z",
     "start_time": "2023-09-29T20:56:18.165098Z"
    }
   },
   "outputs": [],
   "source": [
    "#сохраняем данные в датасет\n",
    "filtered_df.to_csv('filtered_df.csv')"
   ]
  },
  {
   "cell_type": "code",
   "execution_count": 106,
   "metadata": {
    "ExecuteTime": {
     "end_time": "2023-09-29T21:04:23.651974Z",
     "start_time": "2023-09-29T21:04:21.574277Z"
    }
   },
   "outputs": [],
   "source": [
    "#смотрим данные в спарке\n",
    "df = spark.read.csv('filtered_df.csv', inferSchema= True, header=True, sep=',')"
   ]
  },
  {
   "cell_type": "code",
   "execution_count": 108,
   "metadata": {
    "ExecuteTime": {
     "end_time": "2023-09-29T21:05:12.078616Z",
     "start_time": "2023-09-29T21:05:11.890987Z"
    }
   },
   "outputs": [
    {
     "name": "stdout",
     "output_type": "stream",
     "text": [
      "+---+-------------------+---------+---------+----------+-------------+--------------------+--------+---------------+--------------+\n",
      "|_c0|           datetime|      lat|     long|dead_count|injured_count|               light| weather|road_conditions|      location|\n",
      "+---+-------------------+---------+---------+----------+-------------+--------------------+--------+---------------+--------------+\n",
      "|  8|2021-04-11 13:30:00|53.357051|83.658732|         0|            1| Светлое время суток|    Ясно|         Мокрое|Алтайский край|\n",
      "| 12|2021-04-09 21:40:00|53.379303|83.724564|         0|            1|В темное время су...|    Ясно|         Мокрое|Алтайский край|\n",
      "| 13|2021-04-05 17:20:00|53.380602|83.688548|         0|            1| Светлое время суток|    Ясно|         Мокрое|Алтайский край|\n",
      "| 23|2021-03-26 12:35:00|53.343948|83.781084|         0|            1| Светлое время суток|Пасмурно|         Мокрое|Алтайский край|\n",
      "| 24|2021-03-19 12:20:00|53.339624|83.669879|         0|            1| Светлое время суток|    Ясно|         Мокрое|Алтайский край|\n",
      "+---+-------------------+---------+---------+----------+-------------+--------------------+--------+---------------+--------------+\n",
      "only showing top 5 rows\n",
      "\n"
     ]
    }
   ],
   "source": [
    "df.show(5, truncate=True)"
   ]
  },
  {
   "cell_type": "code",
   "execution_count": 118,
   "metadata": {
    "ExecuteTime": {
     "end_time": "2023-09-29T21:46:03.455851Z",
     "start_time": "2023-09-29T21:46:03.093555Z"
    }
   },
   "outputs": [
    {
     "name": "stdout",
     "output_type": "stream",
     "text": [
      "+---------------------+\n",
      "|features             |\n",
      "+---------------------+\n",
      "|[53.357051,83.658732]|\n",
      "|[53.379303,83.724564]|\n",
      "|[53.380602,83.688548]|\n",
      "|[53.343948,83.781084]|\n",
      "|[53.339624,83.669879]|\n",
      "+---------------------+\n",
      "only showing top 5 rows\n",
      "\n"
     ]
    }
   ],
   "source": [
    "#векторизация данных\n",
    "input_columns = ['lat', 'long']\n",
    "\n",
    "vec_assembler = VectorAssembler(inputCols=input_columns,\n",
    "                                outputCol='features',\n",
    "                                handleInvalid='skip')\n",
    "final_data = vec_assembler.transform(df)\n",
    "final_data.select(F.col('features')).show(5, truncate=False)"
   ]
  },
  {
   "cell_type": "code",
   "execution_count": 119,
   "metadata": {
    "ExecuteTime": {
     "end_time": "2023-09-29T21:46:40.147882Z",
     "start_time": "2023-09-29T21:46:21.506880Z"
    }
   },
   "outputs": [],
   "source": [
    "#применим модель кластерии для получения центров кластеров k=500\n",
    "kmeans = KMeans(featuresCol='features',\n",
    "                predictionCol='clusters',\n",
    "                distanceMeasure='euclidean',\n",
    "                initMode='k-means||',\n",
    "                seed=1881,\n",
    "                maxIter=100,\n",
    "                k=500)\n",
    "model=kmeans.fit(final_data)"
   ]
  },
  {
   "cell_type": "code",
   "execution_count": 120,
   "metadata": {
    "ExecuteTime": {
     "end_time": "2023-09-29T21:53:32.395908Z",
     "start_time": "2023-09-29T21:53:31.445025Z"
    }
   },
   "outputs": [
    {
     "name": "stdout",
     "output_type": "stream",
     "text": [
      "+--------+---------+---------+----------+--------------+\n",
      "|clusters|lat      |long     |dead_count|location      |\n",
      "+--------+---------+---------+----------+--------------+\n",
      "|35      |53.357051|83.658732|0         |Алтайский край|\n",
      "|35      |53.379303|83.724564|0         |Алтайский край|\n",
      "|35      |53.380602|83.688548|0         |Алтайский край|\n",
      "|35      |53.343948|83.781084|0         |Алтайский край|\n",
      "|35      |53.339624|83.669879|0         |Алтайский край|\n",
      "+--------+---------+---------+----------+--------------+\n",
      "only showing top 5 rows\n",
      "\n"
     ]
    }
   ],
   "source": [
    "center_df = model.transform(final_data).select('clusters', 'lat', 'long', 'dead_count', 'location')\n",
    "center_df.show(5, truncate=False)"
   ]
  },
  {
   "cell_type": "code",
   "execution_count": 151,
   "metadata": {
    "ExecuteTime": {
     "end_time": "2023-09-30T11:51:10.960562Z",
     "start_time": "2023-09-30T11:51:10.863318Z"
    }
   },
   "outputs": [
    {
     "data": {
      "text/html": [
       "<div>\n",
       "<style scoped>\n",
       "    .dataframe tbody tr th:only-of-type {\n",
       "        vertical-align: middle;\n",
       "    }\n",
       "\n",
       "    .dataframe tbody tr th {\n",
       "        vertical-align: top;\n",
       "    }\n",
       "\n",
       "    .dataframe thead th {\n",
       "        text-align: right;\n",
       "    }\n",
       "</style>\n",
       "<table border=\"1\" class=\"dataframe\">\n",
       "  <thead>\n",
       "    <tr style=\"text-align: right;\">\n",
       "      <th></th>\n",
       "      <th>lat</th>\n",
       "      <th>long</th>\n",
       "    </tr>\n",
       "  </thead>\n",
       "  <tbody>\n",
       "    <tr>\n",
       "      <th>0</th>\n",
       "      <td>55.566874</td>\n",
       "      <td>37.656738</td>\n",
       "    </tr>\n",
       "    <tr>\n",
       "      <th>1</th>\n",
       "      <td>55.576039</td>\n",
       "      <td>84.595819</td>\n",
       "    </tr>\n",
       "    <tr>\n",
       "      <th>2</th>\n",
       "      <td>61.708126</td>\n",
       "      <td>50.747708</td>\n",
       "    </tr>\n",
       "    <tr>\n",
       "      <th>3</th>\n",
       "      <td>43.155161</td>\n",
       "      <td>131.996392</td>\n",
       "    </tr>\n",
       "    <tr>\n",
       "      <th>4</th>\n",
       "      <td>59.930903</td>\n",
       "      <td>30.351533</td>\n",
       "    </tr>\n",
       "  </tbody>\n",
       "</table>\n",
       "</div>"
      ],
      "text/plain": [
       "         lat        long\n",
       "0  55.566874   37.656738\n",
       "1  55.576039   84.595819\n",
       "2  61.708126   50.747708\n",
       "3  43.155161  131.996392\n",
       "4  59.930903   30.351533"
      ]
     },
     "execution_count": 151,
     "metadata": {},
     "output_type": "execute_result"
    }
   ],
   "source": [
    "#датафрейм кластеров\n",
    "centers = pd.DataFrame(model.clusterCenters(), columns=['lat','long'])\n",
    "centers.head()"
   ]
  },
  {
   "cell_type": "code",
   "execution_count": 152,
   "metadata": {
    "ExecuteTime": {
     "end_time": "2023-09-30T11:51:17.782406Z",
     "start_time": "2023-09-30T11:51:17.750279Z"
    }
   },
   "outputs": [
    {
     "data": {
      "text/plain": [
       "(500, 2)"
      ]
     },
     "execution_count": 152,
     "metadata": {},
     "output_type": "execute_result"
    }
   ],
   "source": [
    "centers.shape"
   ]
  },
  {
   "cell_type": "code",
   "execution_count": 153,
   "metadata": {
    "ExecuteTime": {
     "end_time": "2023-09-30T11:51:19.338942Z",
     "start_time": "2023-09-30T11:51:19.308648Z"
    }
   },
   "outputs": [],
   "source": [
    "#сохраним данные в датафрейм \n",
    "centers.to_csv('centers.csv')"
   ]
  },
  {
   "cell_type": "code",
   "execution_count": 172,
   "metadata": {
    "ExecuteTime": {
     "end_time": "2023-09-30T12:08:18.662527Z",
     "start_time": "2023-09-30T12:08:18.557794Z"
    }
   },
   "outputs": [],
   "source": [
    "#перенос данных после обработки в БД PostgreSQL\n",
    "try:\n",
    "    # пытаемся подключиться к базе данных\n",
    "    conn = psycopg2.connect(dbname='centers', user='postgres', password=\"somnambula20\", host=\"127.0.0.1\", port=\"5432\")\n",
    "except:\n",
    "    # в случае сбоя подключения будет выведено сообщение в STDOUT\n",
    "    print('Can`t establish connection to database')"
   ]
  },
  {
   "cell_type": "code",
   "execution_count": 173,
   "metadata": {
    "ExecuteTime": {
     "end_time": "2023-09-30T12:08:20.234807Z",
     "start_time": "2023-09-30T12:08:20.160417Z"
    }
   },
   "outputs": [
    {
     "name": "stdout",
     "output_type": "stream",
     "text": [
      "Таблица cluster_center существует\n"
     ]
    }
   ],
   "source": [
    "cursor = conn.cursor()\n",
    "cursor.execute(\"SELECT EXISTS (SELECT FROM information_schema.tables WHERE table_name = 'cluster_center')\")\n",
    "exists = cursor.fetchone()[0]\n",
    "\n",
    "if exists:\n",
    "    print(\"Таблица cluster_center существует\")\n",
    "else:\n",
    "    print(\"Таблица cluster_center не существует\")\n"
   ]
  },
  {
   "cell_type": "code",
   "execution_count": 174,
   "metadata": {
    "ExecuteTime": {
     "end_time": "2023-09-30T12:08:23.681905Z",
     "start_time": "2023-09-30T12:08:23.649082Z"
    }
   },
   "outputs": [
    {
     "name": "stdout",
     "output_type": "stream",
     "text": [
      "данные добавлены\n"
     ]
    }
   ],
   "source": [
    "#добавление данных в базу PostgreSQL\n",
    "\n",
    "try:\n",
    "    cursor = conn.cursor()\n",
    "\n",
    "    with conn.cursor() as cursor:\n",
    "        with open ('centers.csv', 'r') as f:\n",
    "            next(f)  # Пропускаем первую строку\n",
    "            cursor.copy_from(f, 'cluster_center', sep=',')\n",
    "    print(f'данные добавлены')\n",
    "\n",
    "except Exception as _ex:\n",
    "    print('[INFO] Ошибка в PostgreSQL', _ex)"
   ]
  },
  {
   "cell_type": "code",
   "execution_count": 176,
   "metadata": {
    "ExecuteTime": {
     "end_time": "2023-09-30T12:10:05.653439Z",
     "start_time": "2023-09-30T12:10:05.592561Z"
    }
   },
   "outputs": [
    {
     "name": "stdout",
     "output_type": "stream",
     "text": [
      "(0, Decimal('55.56687422262358'), Decimal('37.65673830006768'))\n",
      "(1, Decimal('55.57603945957448'), Decimal('84.59581917872345'))\n",
      "(2, Decimal('61.70812635536306'), Decimal('50.74770811917675'))\n",
      "(3, Decimal('43.15516064812776'), Decimal('131.9963918535243'))\n",
      "(4, Decimal('59.93090263527536'), Decimal('30.35153348308078'))\n",
      "(5, Decimal('1.1983559016393441'), Decimal('1.1618006229508195'))\n",
      "(6, Decimal('44.63218847351697'), Decimal('39.98729930826273'))\n",
      "(7, Decimal('56.34248187844037'), Decimal('41.31846299311924'))\n",
      "(8, Decimal('53.47606720539147'), Decimal('55.87734879332476'))\n",
      "(9, Decimal('51.52338925071228'), Decimal('46.04066277314812'))\n",
      "(10, Decimal('53.0799611690648'), Decimal('158.544750577338'))\n",
      "(11, Decimal('56.222777280701756'), Decimal('101.63883767982458'))\n",
      "(12, Decimal('53.685220876106186'), Decimal('87.9223353628319'))\n",
      "(13, Decimal('50.3039018291457'), Decimal('127.52123028140709'))\n",
      "(14, Decimal('55.31235178787879'), Decimal('67.22746096969696'))\n",
      "(15, Decimal('56.202687578124994'), Decimal('35.220123628124995'))\n",
      "(16, Decimal('54.703417081304295'), Decimal('20.461598876347843'))\n",
      "(17, Decimal('61.10208446666667'), Decimal('46.42465945866668'))\n",
      "(18, Decimal('43.17868626123129'), Decimal('44.70911727204662'))\n",
      "(19, Decimal('52.5788808575836'), Decimal('39.57624679845759'))\n",
      "(20, Decimal('59.43952724137932'), Decimal('37.428674124137935'))\n",
      "(21, Decimal('47.60100037995828'), Decimal('40.218503787056356'))\n",
      "(22, Decimal('60.99992835106382'), Decimal('69.02155570212764'))\n",
      "(23, Decimal('55.36346258238634'), Decimal('47.48651212215907'))\n",
      "(24, Decimal('43.67719101190477'), Decimal('56.50893049999998'))\n",
      "(25, Decimal('74.4816287142857'), Decimal('56.90341442857143'))\n",
      "(26, Decimal('47.00701222718443'), Decimal('142.7151080213592'))\n",
      "(27, Decimal('44.735499720048885'), Decimal('33.498078503789706'))\n",
      "(28, Decimal('50.4596478658537'), Decimal('136.9622246686992'))\n",
      "(29, Decimal('65.55240995238093'), Decimal('175.53523890476183'))\n",
      "(30, Decimal('58.168764744736826'), Decimal('33.907896797368416'))\n",
      "(31, Decimal('52.50396655371903'), Decimal('34.31876772727272'))\n",
      "(32, Decimal('64.53479525784566'), Decimal('40.58176547497882'))\n",
      "(33, Decimal('60.948487944954124'), Decimal('76.5296428165138'))\n",
      "(34, Decimal('61.79083500996273'), Decimal('34.31491070983808'))\n",
      "(35, Decimal('53.36247717834118'), Decimal('83.73440553244514'))\n",
      "(36, Decimal('48.4357547051887'), Decimal('135.12019859669803'))\n",
      "(37, Decimal('51.76276837854078'), Decimal('55.106413140772524'))\n",
      "(38, Decimal('54.9414736053923'), Decimal('73.35690219403592'))\n",
      "(39, Decimal('20.4167'), Decimal('104.085'))\n",
      "(40, Decimal('31.50877776923077'), Decimal('29.570284692307695'))\n",
      "(41, Decimal('43.75356746153847'), Decimal('13.710122230769233'))\n",
      "(42, Decimal('48.688046380039374'), Decimal('44.56407048727988'))\n",
      "(43, Decimal('56.35433084393065'), Decimal('95.64384028323698'))\n",
      "(44, Decimal('59.64657216901409'), Decimal('150.77578815962443'))\n",
      "(45, Decimal('5.040414'), Decimal('62.631325000000004'))\n",
      "(46, Decimal('51.24588152885759'), Decimal('37.770058603062424'))\n",
      "(47, Decimal('46.266169031062155'), Decimal('48.02356183767539'))\n",
      "(48, Decimal('61.27888989045381'), Decimal('73.37048392331768'))\n",
      "(49, Decimal('65.00662633333333'), Decimal('-173.3856093333333'))\n",
      "(50, Decimal('10.627776529411765'), Decimal('11.466316352941176'))\n",
      "(51, Decimal('59.7603223552398'), Decimal('32.17470480461811'))\n",
      "(52, Decimal('44.06086980037784'), Decimal('42.98522045969776'))\n",
      "(53, Decimal('55.133428901798034'), Decimal('59.952180426002776'))\n",
      "(54, Decimal('51.843161533156525'), Decimal('107.61535588063664'))\n",
      "(55, Decimal('54.70203219322033'), Decimal('46.32303768135591'))\n",
      "(56, Decimal('58.524266282208075'), Decimal('31.275917384049045'))\n",
      "(57, Decimal('50.19016446874996'), Decimal('40.018349889705924'))\n",
      "(58, Decimal('53.20360619595068'), Decimal('50.20552791523681'))\n",
      "(59, Decimal('69.25999662032089'), Decimal('88.05111478609622'))\n",
      "(60, Decimal('54.04553800659346'), Decimal('38.22029202857136'))\n",
      "(61, Decimal('55.140653281417876'), Decimal('36.60057236090223'))\n",
      "(62, Decimal('52.00826830874318'), Decimal('113.4706836229508'))\n",
      "(63, Decimal('55.3429183084112'), Decimal('78.22989133644862'))\n",
      "(64, Decimal('54.556034809392294'), Decimal('53.10722435220996'))\n",
      "(65, Decimal('53.80324283647802'), Decimal('58.185886842767296'))\n",
      "(66, Decimal('63.62369906976749'), Decimal('53.650486566860415'))\n",
      "(67, Decimal('62.336686416666666'), Decimal('119.89428329166665'))\n",
      "(68, Decimal('59.19850945054943'), Decimal('39.93114803956045'))\n",
      "(69, Decimal('56.72388859116022'), Decimal('37.47384103683242'))\n",
      "(70, Decimal('59.468802813291234'), Decimal('56.734644636075934'))\n",
      "(71, Decimal('52.242698633858254'), Decimal('104.23244702362229'))\n",
      "(72, Decimal('60.83410282300885'), Decimal('64.01473425663714'))\n",
      "(73, Decimal('64.38279563636364'), Decimal('76.75637267272725'))\n",
      "(74, Decimal('62.01407076216215'), Decimal('129.77748562972963'))\n",
      "(75, Decimal('56.043497886462895'), Decimal('39.56640169432313'))\n",
      "(76, Decimal('60.645529921052635'), Decimal('43.8467764736842'))\n",
      "(77, Decimal('56.17046487351504'), Decimal('43.32142098742142'))\n",
      "(78, Decimal('51.6503683524229'), Decimal('94.321771876652'))\n",
      "(79, Decimal('68.9850793033816'), Decimal('32.99904914009661'))\n",
      "(80, Decimal('44.520060254901956'), Decimal('135.50881487581697'))\n",
      "(81, Decimal('48.53370702631584'), Decimal('40.50510819956139'))\n",
      "(82, Decimal('57.94244082352938'), Decimal('38.703833076203225'))\n",
      "(83, Decimal('53.50420851748249'), Decimal('84.70149328671326'))\n",
      "(84, Decimal('49.6279206'), Decimal('106.63349175000002'))\n",
      "(85, Decimal('58.60976195398913'), Decimal('49.701264903573154'))\n",
      "(86, Decimal('0.9082'), Decimal('30.39945'))\n",
      "(87, Decimal('52.501561345911966'), Decimal('82.37501304402517'))\n",
      "(88, Decimal('56.64781622131149'), Decimal('54.04328585737706'))\n",
      "(89, Decimal('25.367553600000004'), Decimal('33.3946534'))\n",
      "(90, Decimal('52.515428590643275'), Decimal('42.43788607017543'))\n",
      "(91, Decimal('45.61567476691729'), Decimal('133.66502910526316'))\n",
      "(92, Decimal('32.546263624999995'), Decimal('58.332412000000005'))\n",
      "(93, Decimal('57.62719996941782'), Decimal('39.83818624060427'))\n",
      "(94, Decimal('54.803597879476015'), Decimal('32.00427561921399'))\n",
      "(95, Decimal('54.64238781415927'), Decimal('100.7278847433629'))\n",
      "(96, Decimal('54.456025'), Decimal('2.95567375'))\n",
      "(97, Decimal('45.00135443283578'), Decimal('41.96097930916847'))\n",
      "(98, Decimal('56.842934333333375'), Decimal('61.74073269620249'))\n",
      "(99, Decimal('56.544794078571435'), Decimal('59.94667543571432'))\n",
      "(100, Decimal('51.32408210593219'), Decimal('58.393119025423694'))\n",
      "(101, Decimal('55.82348709597258'), Decimal('52.3981202973436'))\n",
      "(102, Decimal('55.83758119536016'), Decimal('38.87415726129427'))\n",
      "(103, Decimal('58.01605127800698'), Decimal('56.19665762361156'))\n",
      "(104, Decimal('54.520081283783774'), Decimal('124.41965743243239'))\n",
      "(105, Decimal('37.496373500000004'), Decimal('55.760920862068964'))\n",
      "(106, Decimal('52.13275361022366'), Decimal('37.360163840255595'))\n",
      "(107, Decimal('70.24548085714287'), Decimal('69.15157928571428'))\n",
      "(108, Decimal('56.02378348785049'), Decimal('92.92429965669787'))\n",
      "(109, Decimal('53.25833510407242'), Decimal('91.00032280995475'))\n",
      "(110, Decimal('59.57214814545454'), Decimal('60.360838399999984'))\n",
      "(111, Decimal('45.100994475428585'), Decimal('39.01523692723807'))\n",
      "(112, Decimal('53.08397680689655'), Decimal('78.79181866896552'))\n",
      "(113, Decimal('57.77773934194057'), Decimal('28.284964048513295'))\n",
      "(114, Decimal('52.33443561702127'), Decimal('43.894770707446824'))\n",
      "(115, Decimal('42.85684716919743'), Decimal('47.399041259219096'))\n",
      "(116, Decimal('56.96959727353465'), Decimal('64.98215796092364'))\n",
      "(117, Decimal('34.8938305'), Decimal('82.663261'))\n",
      "(118, Decimal('45.45129655319146'), Decimal('43.14291743829787'))\n",
      "(119, Decimal('55.78870283596221'), Decimal('49.164559731072664'))\n",
      "(120, Decimal('56.04455021097043'), Decimal('45.02137210084387'))\n",
      "(121, Decimal('13.8363156'), Decimal('21.3837578'))\n",
      "(122, Decimal('33.605988999999994'), Decimal('42.58079371428571'))\n",
      "(123, Decimal('43.55226690470587'), Decimal('39.72628240352939'))\n",
      "(124, Decimal('54.07210306563708'), Decimal('61.12109781467176'))\n",
      "(125, Decimal('53.984594527559096'), Decimal('54.339451152230964'))\n",
      "(126, Decimal('53.987128530054655'), Decimal('35.920377437158464'))\n",
      "(127, Decimal('46.367826139689626'), Decimal('44.41660823281599'))\n",
      "(128, Decimal('57.959887152249145'), Decimal('29.556212695501735'))\n",
      "(129, Decimal('64.48407225407163'), Decimal('39.703550241042336'))\n",
      "(130, Decimal('52.2053139368421'), Decimal('53.23130922105261'))\n",
      "(131, Decimal('55.80740032670754'), Decimal('37.60319988233741'))\n",
      "(132, Decimal('67.27732233333333'), Decimal('135.352539'))\n",
      "(133, Decimal('46.51496907692308'), Decimal('65.42882792307691'))\n",
      "(134, Decimal('22.152132'), Decimal('54.661530727272726'))\n",
      "(135, Decimal('50.496557292307685'), Decimal('86.67530627692308'))\n",
      "(136, Decimal('61.68516057499999'), Decimal('30.74925435624999'))\n",
      "(137, Decimal('54.88918816393443'), Decimal('89.8576494590164'))\n",
      "(138, Decimal('54.729764596491236'), Decimal('85.36086349999997'))\n",
      "(139, Decimal('53.19644392328034'), Decimal('44.99885790423279'))\n",
      "(140, Decimal('56.587114299999975'), Decimal('32.47015018571429'))\n",
      "(141, Decimal('43.95633797872339'), Decimal('46.65504274822694'))\n",
      "(142, Decimal('66.58589408333333'), Decimal('66.61875737499999'))\n",
      "(143, Decimal('38.753630569230765'), Decimal('45.58140873846154'))\n",
      "(144, Decimal('53.74046398573284'), Decimal('87.18698948508424'))\n",
      "(145, Decimal('55.0663092080925'), Decimal('43.21063948265898'))\n",
      "(146, Decimal('53.5921322269014'), Decimal('49.412849665619106'))\n",
      "(147, Decimal('45.0708'), Decimal('0.0692'))\n",
      "(148, Decimal('57.40499358286777'), Decimal('34.74115164990688'))\n",
      "(149, Decimal('65.71316447058823'), Decimal('72.61011580392157'))\n",
      "(150, Decimal('60.655855383429646'), Decimal('28.853415258188804'))\n",
      "(151, Decimal('55.97944383508772'), Decimal('46.32641463508772'))\n",
      "(152, Decimal('54.815906720524055'), Decimal('82.36980150218336'))\n",
      "(153, Decimal('65.08294934666668'), Decimal('33.950471480000004'))\n",
      "(154, Decimal('58.11068702777777'), Decimal('114.15769780555554'))\n",
      "(155, Decimal('58.41590643145163'), Decimal('57.794469556451595'))\n",
      "(156, Decimal('45.585852875576016'), Decimal('40.08395103594474'))\n",
      "(157, Decimal('45.32131830372494'), Decimal('36.66531879656161'))\n",
      "(158, Decimal('44.863667488673066'), Decimal('34.145951645631115'))\n",
      "(159, Decimal('55.18568032088979'), Decimal('61.38021576168933'))\n",
      "(160, Decimal('56.64373884615384'), Decimal('162.37269815384616'))\n",
      "(161, Decimal('56.18954844670053'), Decimal('69.39160786802027'))\n",
      "(162, Decimal('61.670724450450464'), Decimal('74.9485491261261'))\n",
      "(163, Decimal('56.1463065736434'), Decimal('87.764908992248'))\n",
      "(164, Decimal('51.43535532432433'), Decimal('132.7294417297297'))\n",
      "(165, Decimal('43.10449970772057'), Decimal('44.08919011580885'))\n",
      "(166, Decimal('67.18781045061728'), Decimal('32.074173919753086'))\n",
      "(167, Decimal('36.0313734'), Decimal('62.62834000000001'))\n",
      "(168, Decimal('58.382491622950866'), Decimal('68.45067661967211'))\n",
      "(169, Decimal('52.53121225502006'), Decimal('38.54843560441766'))\n",
      "(170, Decimal('51.55690648854959'), Decimal('35.55701711832058'))\n",
      "(171, Decimal('55.03908129955953'), Decimal('37.3190267903084'))\n",
      "(172, Decimal('55.29281250988555'), Decimal('51.96682770551504'))\n",
      "(173, Decimal('54.792565145888595'), Decimal('22.1108935862069'))\n",
      "(174, Decimal('35.903299999999994'), Decimal('48.65051128571429'))\n",
      "(175, Decimal('54.47962873106059'), Decimal('83.4151511590909'))\n",
      "(176, Decimal('53.39300410952383'), Decimal('37.17655647619048'))\n",
      "(177, Decimal('51.19915209634549'), Decimal('128.3562161495016'))\n",
      "(178, Decimal('47.0881003046422'), Decimal('38.788956508704096'))\n",
      "(179, Decimal('53.0065611280788'), Decimal('36.130874618719254'))\n",
      "(180, Decimal('44.73346895'), Decimal('147.08222239999998'))\n",
      "(181, Decimal('56.55850279310345'), Decimal('105.70879631034478'))\n",
      "(182, Decimal('56.330422412698425'), Decimal('57.42076473809522'))\n",
      "(183, Decimal('44.895684034697105'), Decimal('37.810813992231985'))\n",
      "(184, Decimal('65.91833333333332'), Decimal('22.34256666666667'))\n",
      "(185, Decimal('62.82144511111111'), Decimal('56.54889718518518'))\n",
      "(186, Decimal('44.721693268571414'), Decimal('44.48558438857143'))\n",
      "(187, Decimal('58.18570908450704'), Decimal('35.90186323943663'))\n",
      "(188, Decimal('7.370196333333333'), Decimal('134.9689643333333'))\n",
      "(189, Decimal('56.98308335384613'), Decimal('41.501210021538476'))\n",
      "(190, Decimal('60.27366840860215'), Decimal('70.88777823655916'))\n",
      "(191, Decimal('66.06613802702702'), Decimal('60.12248118918917'))\n",
      "(192, Decimal('50.61611678961504'), Decimal('36.642704015219294'))\n",
      "(193, Decimal('47.19597840269229'), Decimal('39.70251134961542'))\n",
      "(194, Decimal('67.1791931632653'), Decimal('52.77487197959183'))\n",
      "(195, Decimal('12.831389000000001'), Decimal('45.894299999999994'))\n",
      "(196, Decimal('52.62889640397348'), Decimal('32.11592992715229'))\n",
      "(197, Decimal('56.851485618270786'), Decimal('53.19319517455148'))\n",
      "(198, Decimal('55.83957754969573'), Decimal('48.40718128397567'))\n",
      "(199, Decimal('61.76899590909092'), Decimal('142.2762961818182'))\n",
      "(200, Decimal('84.80642353571427'), Decimal('53.69006196428571'))\n",
      "(201, Decimal('56.19660044178084'), Decimal('90.46954076027397'))\n",
      "(202, Decimal('54.3345839018988'), Decimal('48.3781595550634'))\n",
      "(203, Decimal('30.458418666666667'), Decimal('12.019159333333334'))\n",
      "(204, Decimal('54.18591502186862'), Decimal('37.60151452435394'))\n",
      "(205, Decimal('56.1181872287536'), Decimal('47.26432365368277'))\n",
      "(206, Decimal('55.73483466887416'), Decimal('71.82162215894039'))\n",
      "(207, Decimal('55.11662853591943'), Decimal('37.991754610632206'))\n",
      "(208, Decimal('74.654589'), Decimal('43.323477999999994'))\n",
      "(209, Decimal('56.798953737961256'), Decimal('60.65330833896186'))\n",
      "(210, Decimal('44.27009659481582'), Decimal('39.008799574352'))\n",
      "(211, Decimal('53.20682196774193'), Decimal('141.4694209677419'))\n",
      "(212, Decimal('46.351797740053065'), Decimal('41.36454237135279'))\n",
      "(213, Decimal('58.32776706194689'), Decimal('54.67570763421828'))\n",
      "(214, Decimal('52.72145993413176'), Decimal('32.936439413173666'))\n",
      "(215, Decimal('25.9683'), Decimal('158.7031'))\n",
      "(216, Decimal('80.12694450000001'), Decimal('84.692222'))\n",
      "(217, Decimal('63.80913284374999'), Decimal('65.98670059375003'))\n",
      "(218, Decimal('56.393144005641744'), Decimal('36.77950054301833'))\n",
      "(219, Decimal('55.91165979286876'), Decimal('37.35996646580234'))\n",
      "(220, Decimal('52.12623987777781'), Decimal('116.7457524333333'))\n",
      "(221, Decimal('55.64360706516172'), Decimal('37.437398333954036'))\n",
      "(222, Decimal('63.191989378881985'), Decimal('34.37947162111802'))\n",
      "(223, Decimal('45.666428734375'), Decimal('34.123195304687485'))\n",
      "(224, Decimal('53.75475079245284'), Decimal('102.32479880188681'))\n",
      "(225, Decimal('57.83109993859651'), Decimal('45.661807312865506'))\n",
      "(226, Decimal('65.51889923333333'), Decimal('57.329188316666674'))\n",
      "(227, Decimal('54.62609263588626'), Decimal('39.73452229190375'))\n",
      "(228, Decimal('64.4880753670886'), Decimal('31.100697949367092'))\n",
      "(229, Decimal('44.126424213656435'), Decimal('41.811107636563854'))\n",
      "(230, Decimal('60.75690027586207'), Decimal('115.16749682758619'))\n",
      "(231, Decimal('57.33338517682926'), Decimal('63.30588596341467'))\n",
      "(232, Decimal('44.96339033211676'), Decimal('40.91602944160584'))\n",
      "(233, Decimal('50.06432498431371'), Decimal('45.34098633725488'))\n",
      "(234, Decimal('47.599657384615384'), Decimal('54.906038384615385'))\n",
      "(235, Decimal('61.11499775000005'), Decimal('72.44378609415585'))\n",
      "(236, Decimal('54.5177356972265'), Decimal('36.259454366717996'))\n",
      "(237, Decimal('53.2693848644067'), Decimal('38.20028786440682'))\n",
      "(238, Decimal('58.33035925624998'), Decimal('92.54644461875'))\n",
      "(239, Decimal('57.88953472933548'), Decimal('59.97313509886549'))\n",
      "(240, Decimal('56.600511346031766'), Decimal('28.684674812698404'))\n",
      "(241, Decimal('49.80595847058823'), Decimal('129.44965917647056'))\n",
      "(242, Decimal('54.74934164836992'), Decimal('56.0030871518529'))\n",
      "(243, Decimal('53.15936152083333'), Decimal('35.08805241666668'))\n",
      "(244, Decimal('22.614491200000003'), Decimal('14.103046599999999'))\n",
      "(245, Decimal('55.526066853955356'), Decimal('65.3213817464503'))\n",
      "(246, Decimal('47.53897076413254'), Decimal('42.11586170955165'))\n",
      "(247, Decimal('54.21176626960784'), Decimal('39.00901350980393'))\n",
      "(248, Decimal('56.25194294339625'), Decimal('93.42137615471702'))\n",
      "(249, Decimal('51.66706363417233'), Decimal('39.20082560404108'))\n",
      "(250, Decimal('44.675207487804876'), Decimal('132.93434735365855'))\n",
      "(251, Decimal('59.582389356258645'), Decimal('28.798159072902347'))\n",
      "(252, Decimal('56.99362350847458'), Decimal('86.22816277966102'))\n",
      "(253, Decimal('53.17600106493509'), Decimal('48.367688686456425'))\n",
      "(254, Decimal('55.297168438235325'), Decimal('34.4992805911765'))\n",
      "(255, Decimal('31.075538857142856'), Decimal('22.44066257142857'))\n",
      "(256, Decimal('55.35804316916912'), Decimal('86.10275286286283'))\n",
      "(257, Decimal('55.48290959897174'), Decimal('42.07848028149101'))\n",
      "(258, Decimal('52.68121606087605'), Decimal('41.466930699331805'))\n",
      "(259, Decimal('54.01901258474577'), Decimal('32.96666057203387'))\n",
      "(260, Decimal('17.58945'), Decimal('76.57554999999999'))\n",
      "(261, Decimal('57.15431682961233'), Decimal('65.57757466274961'))\n",
      "(262, Decimal('71.98216766666667'), Decimal('102.48340933333333'))\n",
      "(263, Decimal('51.579925576923095'), Decimal('81.15687176923075'))\n",
      "(264, Decimal('48.679821050359706'), Decimal('132.90863059712228'))\n",
      "(265, Decimal('39.63367676470588'), Decimal('40.23689847058824'))\n",
      "(266, Decimal('55.441348142857144'), Decimal('110.03337961904762'))\n",
      "(267, Decimal('54.23824487458197'), Decimal('45.15908126086958'))\n",
      "(268, Decimal('63.900679880000006'), Decimal('41.73392720999999'))\n",
      "(269, Decimal('58.625840084745775'), Decimal('125.4314785423729'))\n",
      "(270, Decimal('42.91142238095237'), Decimal('132.9340008042328'))\n",
      "(271, Decimal('62.11426677272726'), Decimal('65.52095072727275'))\n",
      "(272, Decimal('57.74703514530691'), Decimal('40.941925596570364'))\n",
      "(273, Decimal('52.77264494348894'), Decimal('40.504491621621646'))\n",
      "(274, Decimal('41.75729953125'), Decimal('52.02851875'))\n",
      "(275, Decimal('55.09134751132689'), Decimal('33.065507048543665'))\n",
      "(276, Decimal('53.08034344444444'), Decimal('108.93943377777778'))\n",
      "(277, Decimal('54.61003333333333'), Decimal('12.676619777777779'))\n",
      "(278, Decimal('46.057647631419925'), Decimal('38.81986543655593'))\n",
      "(279, Decimal('35.8113703'), Decimal('51.71443920000001'))\n",
      "(280, Decimal('58.154489280701746'), Decimal('82.6010379122807'))\n",
      "(281, Decimal('24.805117444444445'), Decimal('22.40182111111111'))\n",
      "(282, Decimal('54.846986818181826'), Decimal('99.09689546753252'))\n",
      "(283, Decimal('51.72289366037735'), Decimal('110.45332009433963'))\n",
      "(284, Decimal('51.37127278468899'), Decimal('43.30598685645933'))\n",
      "(285, Decimal('31.037085714285713'), Decimal('51.79864285714286'))\n",
      "(286, Decimal('44.17708060000001'), Decimal('54.1291715'))\n",
      "(287, Decimal('39.21426844444445'), Decimal('51.95044751851852'))\n",
      "(288, Decimal('55.13518314640876'), Decimal('50.45891524585632'))\n",
      "(289, Decimal('51.0667028479532'), Decimal('39.69389316959065'))\n",
      "(290, Decimal('50.57592794285714'), Decimal('30.079177828571424'))\n",
      "(291, Decimal('57.2172902719665'), Decimal('49.334495033472805'))\n",
      "(292, Decimal('61.29144868367347'), Decimal('77.53610912244896'))\n",
      "(293, Decimal('55.80410554450266'), Decimal('94.51922826178004'))\n",
      "(294, Decimal('51.70661752830188'), Decimal('105.20232307547171'))\n",
      "(295, Decimal('56.294582753371884'), Decimal('30.495270098265905'))\n",
      "(296, Decimal('53.19174997133025'), Decimal('83.38429271215597'))\n",
      "(297, Decimal('41.84763888475832'), Decimal('48.16142967286247'))\n",
      "(298, Decimal('44.2915382063492'), Decimal('132.35272798412697'))\n",
      "(299, Decimal('49.069680467391294'), Decimal('140.04267917391294'))\n",
      "(300, Decimal('50.17890468085106'), Decimal('41.43172904255319'))\n",
      "(301, Decimal('62.492504328244245'), Decimal('40.241732068702305'))\n",
      "(302, Decimal('51.449869289473675'), Decimal('60.345506289473676'))\n",
      "(303, Decimal('56.26059790263161'), Decimal('42.19198617105267'))\n",
      "(304, Decimal('66.11223571962616'), Decimal('76.56286120560749'))\n",
      "(305, Decimal('59.13119291685149'), Decimal('37.93312808203994'))\n",
      "(306, Decimal('67.219600625'), Decimal('82.47057375000001'))\n",
      "(307, Decimal('61.10838610588235'), Decimal('33.19638007058823'))\n",
      "(308, Decimal('52.43215974859288'), Decimal('85.09948807879928'))\n",
      "(309, Decimal('60.736591173170716'), Decimal('30.083605119512207'))\n",
      "(310, Decimal('51.31840972789115'), Decimal('44.814550292517'))\n",
      "(311, Decimal('48.29735532'), Decimal('43.069753497142855'))\n",
      "(312, Decimal('51.86290143370168'), Decimal('85.84124087569067'))\n",
      "(313, Decimal('54.94682856932153'), Decimal('64.89581940412978'))\n",
      "(314, Decimal('41.14949299999999'), Decimal('60.96930716666666'))\n",
      "(315, Decimal('56.512765743412004'), Decimal('84.93001876699027'))\n",
      "(316, Decimal('55.657998460898504'), Decimal('37.03653672878535'))\n",
      "(317, Decimal('50.513889'), Decimal('151.176389'))\n",
      "(318, Decimal('55.65749177732797'), Decimal('36.50623522672067'))\n",
      "(319, Decimal('48.29954364843749'), Decimal('46.22147435937502'))\n",
      "(320, Decimal('59.707033979334085'), Decimal('30.733396629161888'))\n",
      "(321, Decimal('46.81723315789473'), Decimal('134.6182174868421'))\n",
      "(322, Decimal('50.5213849072165'), Decimal('38.62805034845359'))\n",
      "(323, Decimal('56.71717314354837'), Decimal('38.90312363548387'))\n",
      "(324, Decimal('31.373282199999995'), Decimal('67.91600460000001'))\n",
      "(325, Decimal('58.36140099999999'), Decimal('85.24020841666666'))\n",
      "(326, Decimal('58.346320289719635'), Decimal('52.44532910903427'))\n",
      "(327, Decimal('52.26408719596538'), Decimal('35.31419788184437'))\n",
      "(328, Decimal('57.45727416077168'), Decimal('42.11359862379419'))\n",
      "(329, Decimal('73.400729'), Decimal('53.2976'))\n",
      "(330, Decimal('50.37296409375'), Decimal('127.99942536718747'))\n",
      "(331, Decimal('56.29051722458991'), Decimal('43.96356138449936'))\n",
      "(332, Decimal('63.587114500000006'), Decimal('113.38625373076923'))\n",
      "(333, Decimal('55.995726043290034'), Decimal('40.96094809956711'))\n",
      "(334, Decimal('53.212842183908016'), Decimal('33.50717707471264'))\n",
      "(335, Decimal('2.4989666666666666'), Decimal('47.93979166666666'))\n",
      "(336, Decimal('52.69911974358975'), Decimal('156.50090117948716'))\n",
      "(337, Decimal('58.4454157067669'), Decimal('42.177181172932315'))\n",
      "(338, Decimal('4.4230312'), Decimal('38.0748844'))\n",
      "(339, Decimal('55.46820841825092'), Decimal('40.57831040684412'))\n",
      "(340, Decimal('48.84048496491228'), Decimal('131.4227106140351'))\n",
      "(341, Decimal('56.748748879781395'), Decimal('66.68727407650269'))\n",
      "(342, Decimal('55.37711090556495'), Decimal('43.942115821247924'))\n",
      "(343, Decimal('60.98856046408838'), Decimal('42.10419702209948'))\n",
      "(344, Decimal('55.93076302222224'), Decimal('98.42774363333334'))\n",
      "(345, Decimal('53.604176586466174'), Decimal('39.780715205513786'))\n",
      "(346, Decimal('53.3081198628692'), Decimal('58.958417736286954'))\n",
      "(347, Decimal('62.46990010526316'), Decimal('147.72577963157894'))\n",
      "(348, Decimal('53.268591388024944'), Decimal('34.32519693312599'))\n",
      "(349, Decimal('41.93677175000001'), Decimal('46.49055732812501'))\n",
      "(350, Decimal('55.224079012987005'), Decimal('76.00061066233766'))\n",
      "(351, Decimal('0.05829157142857143'), Decimal('0.053141272727272724'))\n",
      "(352, Decimal('63.34322507692309'), Decimal('75.21666974615383'))\n",
      "(353, Decimal('53.97107676315789'), Decimal('119.96170836842106'))\n",
      "(354, Decimal('53.706977466970386'), Decimal('51.566936209567196'))\n",
      "(355, Decimal('56.13539378260867'), Decimal('91.83847757608696'))\n",
      "(356, Decimal('43.104954040404046'), Decimal('41.34819572727273'))\n",
      "(357, Decimal('58.24723888215491'), Decimal('33.17093432996634'))\n",
      "(358, Decimal('52.696480213333324'), Decimal('87.72358300000002'))\n",
      "(359, Decimal('65.27166669565217'), Decimal('55.70590517391304'))\n",
      "(360, Decimal('51.51516502142855'), Decimal('34.72375690000001'))\n",
      "(361, Decimal('56.300424761904765'), Decimal('38.18353202611365'))\n",
      "(362, Decimal('45.13863283554373'), Decimal('35.15208522015917'))\n",
      "(363, Decimal('59.64615930526316'), Decimal('33.665672305263165'))\n",
      "(364, Decimal('56.14975613936092'), Decimal('40.38365858939502'))\n",
      "(365, Decimal('64.67092857142856'), Decimal('44.532972775510196'))\n",
      "(366, Decimal('57.90448111702124'), Decimal('102.65580855319146'))\n",
      "(367, Decimal('55.00253701777579'), Decimal('82.96186726435734'))\n",
      "(368, Decimal('56.846592442708356'), Decimal('40.33064234374999'))\n",
      "(369, Decimal('88.09465'), Decimal('40.443349999999995'))\n",
      "(370, Decimal('56.68598666209081'), Decimal('47.904987496304116'))\n",
      "(371, Decimal('49.9883647752809'), Decimal('43.23595944943819'))\n",
      "(372, Decimal('51.36359739195985'), Decimal('41.97377939447244'))\n",
      "(373, Decimal('80.38471666666666'), Decimal('58.109899999999996'))\n",
      "(374, Decimal('58.338958790178594'), Decimal('48.04756058482142'))\n",
      "(375, Decimal('55.08977401501501'), Decimal('58.516263393393395'))\n",
      "(376, Decimal('59.85037119454714'), Decimal('29.894431029574882'))\n",
      "(377, Decimal('51.74322595'), Decimal('140.10956205'))\n",
      "(378, Decimal('56.84233774942796'), Decimal('35.887917459954274'))\n",
      "(379, Decimal('54.01158937444935'), Decimal('41.81888680616743'))\n",
      "(380, Decimal('51.83958392517007'), Decimal('56.59131972789116'))\n",
      "(381, Decimal('57.742641832258066'), Decimal('36.8612914580645'))\n",
      "(382, Decimal('56.56906887804878'), Decimal('103.87240514634148'))\n",
      "(383, Decimal('43.769915979853465'), Decimal('131.95664740476195'))\n",
      "(384, Decimal('58.399245581818136'), Decimal('32.27402525454545'))\n",
      "(385, Decimal('42.36122475'), Decimal('142.3660005'))\n",
      "(386, Decimal('50.68970382978722'), Decimal('112.76119442553194'))\n",
      "(387, Decimal('56.0329974740566'), Decimal('92.68681482075462'))\n",
      "(388, Decimal('38.454069857142855'), Decimal('58.05769371428571'))\n",
      "(389, Decimal('13.3845'), Decimal('30.800664'))\n",
      "(390, Decimal('6.49375'), Decimal('44.3343'))\n",
      "(391, Decimal('47.01622757425742'), Decimal('47.16725869306931'))\n",
      "(392, Decimal('49.47419591666666'), Decimal('49.76362674999999'))\n",
      "(393, Decimal('55.113211962745076'), Decimal('38.83519265490196'))\n",
      "(394, Decimal('44.12868494230771'), Decimal('133.4413148846154'))\n",
      "(395, Decimal('56.31948286764707'), Decimal('34.162727191176444'))\n",
      "(396, Decimal('50.99792412962963'), Decimal('142.66480401851854'))\n",
      "(397, Decimal('29.908016441176475'), Decimal('59.87837073529411'))\n",
      "(398, Decimal('55.78972181300815'), Decimal('89.12324360162603'))\n",
      "(399, Decimal('54.429284917355346'), Decimal('41.00423463636367'))\n",
      "(400, Decimal('59.01979324185369'), Decimal('30.03546928964519'))\n",
      "(401, Decimal('5.9617'), Decimal('92.0881'))\n",
      "(402, Decimal('55.762968704114165'), Decimal('37.85951234598174'))\n",
      "(403, Decimal('56.67284202941176'), Decimal('124.78493244117648'))\n",
      "(404, Decimal('67.77370832000004'), Decimal('33.327330024615385'))\n",
      "(405, Decimal('54.54575343750001'), Decimal('86.26620333333334'))\n",
      "(406, Decimal('52.031896513626826'), Decimal('47.65023927882601'))\n",
      "(407, Decimal('5.813533333333333'), Decimal('110.33583333333333'))\n",
      "(408, Decimal('49.046566940170926'), Decimal('142.53611449572645'))\n",
      "(409, Decimal('56.94294215789471'), Decimal('107.64195910526314'))\n",
      "(410, Decimal('61.468656'), Decimal('6.31174375'))\n",
      "(411, Decimal('59.76029203225805'), Decimal('42.51842704838709'))\n",
      "(412, Decimal('49.74869266666667'), Decimal('3.5558223333333334'))\n",
      "(413, Decimal('67.51925348387098'), Decimal('63.93577758064516'))\n",
      "(414, Decimal('35.23977956521739'), Decimal('34.58023965217391'))\n",
      "(415, Decimal('62.46796644329896'), Decimal('42.81812035051547'))\n",
      "(416, Decimal('43.056263239130445'), Decimal('131.30745526086957'))\n",
      "(417, Decimal('61.019847166666665'), Decimal('53.959738185185174'))\n",
      "(418, Decimal('52.35360753711789'), Decimal('36.176237545851535'))\n",
      "(419, Decimal('53.9378523186181'), Decimal('86.67773058157395'))\n",
      "(420, Decimal('54.05364611836733'), Decimal('42.9257542979592'))\n",
      "(421, Decimal('55.4830862'), Decimal('6.250503866666667'))\n",
      "(422, Decimal('61.430981701754376'), Decimal('38.554900245614036'))\n",
      "(423, Decimal('51.21307199999999'), Decimal('91.23198059649121'))\n",
      "(424, Decimal('56.72719427058824'), Decimal('55.72701587450982'))\n",
      "(425, Decimal('61.21848871551723'), Decimal('36.458634482758626'))\n",
      "(426, Decimal('56.02617037634407'), Decimal('74.50984820967746'))\n",
      "(427, Decimal('44.72171963636363'), Decimal('26.399800727272726'))\n",
      "(428, Decimal('53.53755278125'), Decimal('127.00478951562499'))\n",
      "(429, Decimal('51.286446267796606'), Decimal('40.599659922033894'))\n",
      "(430, Decimal('59.355039000000005'), Decimal('1.5292250000000003'))\n",
      "(431, Decimal('51.63077892233008'), Decimal('106.57282346601943'))\n",
      "(432, Decimal('53.681536594339626'), Decimal('91.59869355031447'))\n",
      "(433, Decimal('58.29777347169813'), Decimal('97.63085586792454'))\n",
      "(434, Decimal('51.04281304109589'), Decimal('108.52732673972602'))\n",
      "(435, Decimal('62.902970499999995'), Decimal('155.1006775'))\n",
      "(436, Decimal('59.179811813559354'), Decimal('36.19082885593222'))\n",
      "(437, Decimal('8.29433375'), Decimal('54.257603249999995'))\n",
      "(438, Decimal('15.896655666666664'), Decimal('56.10713333333332'))\n",
      "(439, Decimal('59.31512680000001'), Decimal('21.871847333333335'))\n",
      "(440, Decimal('57.35323718006427'), Decimal('56.95968724115758'))\n",
      "(441, Decimal('61.38325551063828'), Decimal('47.50980019858158'))\n",
      "(442, Decimal('53.660123687500004'), Decimal('139.72352831249998'))\n",
      "(443, Decimal('54.921251797029704'), Decimal('35.961899420792086'))\n",
      "(444, Decimal('22.49363325'), Decimal('2.867514'))\n",
      "(445, Decimal('56.34215023404254'), Decimal('96.87244438297871'))\n",
      "(446, Decimal('59.50716833720929'), Decimal('45.661064674418604'))\n",
      "(447, Decimal('63.6371688'), Decimal('97.45447340000001'))\n",
      "(448, Decimal('44.343204888888884'), Decimal('4.3474173333333335'))\n",
      "(449, Decimal('51.69256485015887'), Decimal('36.18557567492067'))\n",
      "(450, Decimal('54.76171284541064'), Decimal('57.12946107729468'))\n",
      "(451, Decimal('53.97839896956521'), Decimal('34.36351394782611'))\n",
      "(452, Decimal('52.590242657060486'), Decimal('103.487005942363'))\n",
      "(453, Decimal('54.208552767741935'), Decimal('43.99504629677421'))\n",
      "(454, Decimal('55.24720959701492'), Decimal('91.33226870149254'))\n",
      "(455, Decimal('53.19907603887693'), Decimal('46.51613836933042'))\n",
      "(456, Decimal('54.314656816326526'), Decimal('80.60765434693877'))\n",
      "(457, Decimal('43.4897292927711'), Decimal('43.525527810843364'))\n",
      "(458, Decimal('59.19325506796116'), Decimal('34.982990757281556'))\n",
      "(459, Decimal('54.55944261923073'), Decimal('21.174925599999998'))\n",
      "(460, Decimal('33.61283492857143'), Decimal('54.32646185714285'))\n",
      "(461, Decimal('65.77984563829787'), Decimal('78.24692125531912'))\n",
      "(462, Decimal('51.63927250279323'), Decimal('48.762463849162046'))\n",
      "(463, Decimal('53.30567648076924'), Decimal('43.783494669230755'))\n",
      "(464, Decimal('59.39012785714285'), Decimal('159.32035671428574'))\n",
      "(465, Decimal('56.68651469798656'), Decimal('58.623647738255045'))\n",
      "(466, Decimal('53.701987745283006'), Decimal('92.86825483962268'))\n",
      "(467, Decimal('55.644137023102296'), Decimal('35.992845207920816'))\n",
      "(468, Decimal('55.693522682206655'), Decimal('38.315797268065246'))\n",
      "(469, Decimal('56.05523938983051'), Decimal('86.06945415254238'))\n",
      "(470, Decimal('44.18026578431372'), Decimal('131.44586901960784'))\n",
      "(471, Decimal('54.29709108560311'), Decimal('37.07088553696499'))\n",
      "(472, Decimal('15.6608'), Decimal('39.2019'))\n",
      "(473, Decimal('43.27645509523808'), Decimal('45.99227712380951'))\n",
      "(474, Decimal('54.09430042138365'), Decimal('32.02934214465409'))\n",
      "(475, Decimal('56.234815362369346'), Decimal('50.8700101219512'))\n",
      "(476, Decimal('36.69920058823529'), Decimal('54.643372117647054'))\n",
      "(477, Decimal('55.03366666666666'), Decimal('158.5119778333333'))\n",
      "(478, Decimal('56.803059491830105'), Decimal('43.490764774509834'))\n",
      "(479, Decimal('59.252798090909074'), Decimal('38.84021385314686'))\n",
      "(480, Decimal('62.069920269230785'), Decimal('151.7912595769231'))\n",
      "(481, Decimal('41.12637077777777'), Decimal('58.19860583333334'))\n",
      "(482, Decimal('34.72526166666667'), Decimal('21.13948583333333'))\n",
      "(483, Decimal('60.27625673387099'), Decimal('40.53070846774193'))\n",
      "(484, Decimal('55.56917190697675'), Decimal('54.84982636627906'))\n",
      "(485, Decimal('52.20763722905028'), Decimal('45.34982805027933'))\n",
      "(486, Decimal('44.520256977330014'), Decimal('42.75126989672545'))\n",
      "(487, Decimal('50.74219081564243'), Decimal('35.98089319553073'))\n",
      "(488, Decimal('55.77252100000001'), Decimal('63.225968016877644'))\n",
      "(489, Decimal('46.64271182252559'), Decimal('142.25961532764492'))\n",
      "(490, Decimal('52.72533164383561'), Decimal('35.742090958904114'))\n",
      "(491, Decimal('51.373412081481455'), Decimal('115.23201162962954'))\n",
      "(492, Decimal('5.3131575'), Decimal('82.70407900000001'))\n",
      "(493, Decimal('56.99105924775915'), Decimal('40.985943596030744'))\n",
      "(494, Decimal('26.986683333333332'), Decimal('40.800799999999995'))\n",
      "(495, Decimal('44.088707228915666'), Decimal('43.750896092369466'))\n",
      "(496, Decimal('54.32608380701755'), Decimal('35.24076829239767'))\n",
      "(497, Decimal('50.45665415909089'), Decimal('117.82334998863642'))\n",
      "(498, Decimal('52.57258851162791'), Decimal('51.89205441860467'))\n",
      "(499, Decimal('61.307346777777774'), Decimal('165.75176333333334'))\n"
     ]
    }
   ],
   "source": [
    "try:\n",
    "    cursor = conn.cursor()\n",
    "\n",
    "    cursor.execute(\"SELECT * FROM cluster_center\")\n",
    "    rows = cursor.fetchall()\n",
    "\n",
    "    for row in rows:\n",
    "        print(row)\n",
    "\n",
    "except psycopg2.Error as e:\n",
    "    print('Ошибка в PostgreSQL:', e)\n"
   ]
  },
  {
   "cell_type": "code",
   "execution_count": null,
   "metadata": {},
   "outputs": [],
   "source": [
    "#закрытие коннекта с БД\n",
    "cursor.close()\n",
    "conn.close()"
   ]
  }
 ],
 "metadata": {
  "kernelspec": {
   "display_name": "Python 3 (ipykernel)",
   "language": "python",
   "name": "python3"
  },
  "language_info": {
   "codemirror_mode": {
    "name": "ipython",
    "version": 3
   },
   "file_extension": ".py",
   "mimetype": "text/x-python",
   "name": "python",
   "nbconvert_exporter": "python",
   "pygments_lexer": "ipython3",
   "version": "3.9.16"
  }
 },
 "nbformat": 4,
 "nbformat_minor": 1
}
